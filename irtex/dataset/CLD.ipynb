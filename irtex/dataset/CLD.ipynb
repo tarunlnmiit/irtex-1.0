{
 "cells": [
  {
   "cell_type": "code",
   "execution_count": 8,
   "metadata": {
    "pycharm": {
     "is_executing": false
    }
   },
   "outputs": [],
   "source": [
    "import cv2, sys, os\n",
    "import numpy as np\n",
    "# from DescriptorComputer import DescriptorComputer\n",
    "\n",
    "from abc import ABCMeta, abstractmethod\n",
    "\n",
    "class DescriptorComputer:\n",
    "\t__metaclass__ = ABCMeta\n",
    "\t\n",
    "\t@abstractmethod\n",
    "\tdef compute(self, frame):\n",
    "\t\tpass\n",
    "\n",
    "class ColorLayoutComputer(DescriptorComputer):\n",
    "\t\n",
    "\tdef __init__(self):\n",
    "\t\tself.rows = 8\n",
    "\t\tself.cols = 8\n",
    "\t\tself.prefix = \"CLD\"\n",
    "\t\t\n",
    "\tdef compute(self, img):\n",
    "\t\taverages = np.zeros((self.rows,self.cols,3))\n",
    "\t\timgH, imgW, _ = img.shape\n",
    "\t\tfor row in range(self.rows):\n",
    "\t\t\tfor col in range(self.cols):\n",
    "\t\t\t\tslice = img[imgH//self.rows * row: imgH//self.rows * (row+1), imgW//self.cols*col : imgW//self.cols*(col+1)]\n",
    "\t\t\t\taverage_color_per_row = np.mean(slice, axis=0)\n",
    "\t\t\t\taverage_color = np.mean(average_color_per_row, axis=0)\n",
    "\t\t\t\taverage_color = np.uint8(average_color)\n",
    "\t\t\t\taverages[row][col][0] = average_color[0]\n",
    "\t\t\t\taverages[row][col][1] = average_color[1]\n",
    "\t\t\t\taverages[row][col][2] = average_color[2]\n",
    "\t\ticon = cv2.cvtColor(np.array(averages, dtype=np.uint8), cv2.COLOR_BGR2YCR_CB)\n",
    "\t\ty, cr, cb = cv2.split(icon)\n",
    "\t\tdct_y = cv2.dct(np.float32(y))\n",
    "\t\tdct_cb = cv2.dct(np.float32(cb))\n",
    "\t\tdct_cr = cv2.dct(np.float32(cr))\n",
    "\t\tdct_y_zigzag = []\n",
    "\t\tdct_cb_zigzag = []\n",
    "\t\tdct_cr_zigzag = []\n",
    "\t\tflip = True\n",
    "\t\tflipped_dct_y = np.fliplr(dct_y)\n",
    "\t\tflipped_dct_cb = np.fliplr(dct_cb)\n",
    "\t\tflipped_dct_cr = np.fliplr(dct_cr)\n",
    "\t\tfor i in range(self.rows + self.cols -1):\n",
    "\t\t\tk_diag = self.rows - 1 - i\n",
    "\t\t\tdiag_y = np.diag(flipped_dct_y, k=k_diag)\n",
    "\t\t\tdiag_cb = np.diag(flipped_dct_cb, k=k_diag)\n",
    "\t\t\tdiag_cr = np.diag(flipped_dct_cr, k=k_diag)\n",
    "\t\t\tif flip:\n",
    "\t\t\t\tdiag_y = diag_y[::-1]\n",
    "\t\t\t\tdiag_cb = diag_cb[::-1]\n",
    "\t\t\t\tdiag_cr = diag_cr[::-1]\n",
    "\t\t\tdct_y_zigzag.append(diag_y)\n",
    "\t\t\tdct_cb_zigzag.append(diag_cb)\n",
    "\t\t\tdct_cr_zigzag.append(diag_cr)\n",
    "\t\t\tflip = not flip\n",
    "\t\treturn np.concatenate([np.concatenate(dct_y_zigzag), np.concatenate(dct_cb_zigzag), np.concatenate(dct_cr_zigzag)])"
   ]
  },
  {
   "cell_type": "code",
   "execution_count": 1,
   "metadata": {},
   "outputs": [
    {
     "ename": "NameError",
     "evalue": "name 'os' is not defined",
     "output_type": "error",
     "traceback": [
      "\u001b[0;31m---------------------------------------------------------------------------\u001b[0m",
      "\u001b[0;31mNameError\u001b[0m                                 Traceback (most recent call last)",
      "\u001b[0;32m<ipython-input-1-d6169c9776f8>\u001b[0m in \u001b[0;36m<module>\u001b[0;34m\u001b[0m\n\u001b[0;32m----> 1\u001b[0;31m \u001b[0mbase_dir\u001b[0m \u001b[0;34m=\u001b[0m \u001b[0mos\u001b[0m\u001b[0;34m.\u001b[0m\u001b[0mgetcwd\u001b[0m\u001b[0;34m(\u001b[0m\u001b[0;34m)\u001b[0m\u001b[0;34m\u001b[0m\u001b[0;34m\u001b[0m\u001b[0m\n\u001b[0m\u001b[1;32m      2\u001b[0m \u001b[0mimage_dirs\u001b[0m \u001b[0;34m=\u001b[0m \u001b[0mos\u001b[0m\u001b[0;34m.\u001b[0m\u001b[0mpath\u001b[0m\u001b[0;34m.\u001b[0m\u001b[0mjoin\u001b[0m\u001b[0;34m(\u001b[0m\u001b[0mbase_dir\u001b[0m\u001b[0;34m,\u001b[0m \u001b[0;34m'cifar10'\u001b[0m\u001b[0;34m)\u001b[0m\u001b[0;34m\u001b[0m\u001b[0;34m\u001b[0m\u001b[0m\n\u001b[1;32m      3\u001b[0m \u001b[0mlist_image_dirs\u001b[0m \u001b[0;34m=\u001b[0m \u001b[0;34m[\u001b[0m\u001b[0mos\u001b[0m\u001b[0;34m.\u001b[0m\u001b[0mpath\u001b[0m\u001b[0;34m.\u001b[0m\u001b[0mjoin\u001b[0m\u001b[0;34m(\u001b[0m\u001b[0mimage_dirs\u001b[0m\u001b[0;34m,\u001b[0m \u001b[0mfolder\u001b[0m\u001b[0;34m)\u001b[0m \u001b[0;32mfor\u001b[0m \u001b[0mfolder\u001b[0m \u001b[0;32min\u001b[0m \u001b[0mos\u001b[0m\u001b[0;34m.\u001b[0m\u001b[0mlistdir\u001b[0m\u001b[0;34m(\u001b[0m\u001b[0mimage_dirs\u001b[0m\u001b[0;34m)\u001b[0m\u001b[0;34m]\u001b[0m\u001b[0;34m\u001b[0m\u001b[0;34m\u001b[0m\u001b[0m\n\u001b[1;32m      4\u001b[0m \u001b[0mprint\u001b[0m\u001b[0;34m(\u001b[0m\u001b[0mlist_image_dirs\u001b[0m\u001b[0;34m[\u001b[0m\u001b[0;36m4\u001b[0m\u001b[0;34m]\u001b[0m\u001b[0;34m)\u001b[0m\u001b[0;34m\u001b[0m\u001b[0;34m\u001b[0m\u001b[0m\n\u001b[1;32m      5\u001b[0m \u001b[0mimage\u001b[0m \u001b[0;34m=\u001b[0m \u001b[0mcv2\u001b[0m\u001b[0;34m.\u001b[0m\u001b[0mimread\u001b[0m\u001b[0;34m(\u001b[0m\u001b[0mlist_image_dirs\u001b[0m\u001b[0;34m[\u001b[0m\u001b[0;36m4\u001b[0m\u001b[0;34m]\u001b[0m \u001b[0;34m+\u001b[0m \u001b[0;34m'/image_30.png'\u001b[0m\u001b[0;34m)\u001b[0m\u001b[0;34m\u001b[0m\u001b[0;34m\u001b[0m\u001b[0m\n",
      "\u001b[0;31mNameError\u001b[0m: name 'os' is not defined"
     ]
    }
   ],
   "source": [
    "base_dir = os.getcwd()\n",
    "image_dirs = os.path.join(base_dir, 'cifar10')\n",
    "list_image_dirs = [os.path.join(image_dirs, folder) for folder in os.listdir(image_dirs)]\n",
    "print(list_image_dirs[4])\n",
    "image = cv2.imread(list_image_dirs[4] + '/image_30.png')\n",
    "\n",
    "computer = ColorLayoutComputer()\n",
    "descriptor = computer.compute(image) #so descriptor is a vector of 2 x 2 x 32 dimensions\n",
    "print(descriptor, type(descriptor))"
   ]
  },
  {
   "cell_type": "code",
   "execution_count": null,
   "metadata": {},
   "outputs": [],
   "source": []
  }
 ],
 "metadata": {
  "kernelspec": {
   "display_name": "Python 3",
   "language": "python",
   "name": "python3"
  },
  "language_info": {
   "codemirror_mode": {
    "name": "ipython",
    "version": 3
   },
   "file_extension": ".py",
   "mimetype": "text/x-python",
   "name": "python",
   "nbconvert_exporter": "python",
   "pygments_lexer": "ipython3",
   "version": "3.7.7"
  },
  "pycharm": {
   "stem_cell": {
    "cell_type": "raw",
    "metadata": {
     "collapsed": false
    },
    "source": []
   }
  }
 },
 "nbformat": 4,
 "nbformat_minor": 4
}
