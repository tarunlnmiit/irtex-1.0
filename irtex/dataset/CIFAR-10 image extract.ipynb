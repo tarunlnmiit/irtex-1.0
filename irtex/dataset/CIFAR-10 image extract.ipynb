{
 "cells": [
  {
   "cell_type": "code",
   "execution_count": 55,
   "metadata": {},
   "outputs": [],
   "source": [
    "import numpy as np\n",
    "import pickle\n",
    "import cv2\n",
    "import os\n",
    "import shutil"
   ]
  },
  {
   "cell_type": "code",
   "execution_count": 56,
   "metadata": {},
   "outputs": [],
   "source": [
    "def load_cifar_pickle(path, file):\n",
    "    f = open(os.path.join(path, file), 'rb')\n",
    "    dict = pickle.load(f, encoding='bytes')\n",
    "    images = dict[b'data']\n",
    "    images = np.reshape(images, (10000, 3, 32, 32))\n",
    "    labels = np.array(dict[b'labels'])\n",
    "    print(\"Loaded {} labelled images.\".format(images.shape[0]))\n",
    "    return images, labels "
   ]
  },
  {
   "cell_type": "code",
   "execution_count": 57,
   "metadata": {},
   "outputs": [],
   "source": [
    "def load_cifar_categories(path, file):\n",
    "    f = open(os.path.join(path, file), 'rb')\n",
    "    dict = pickle.load(f, encoding='bytes')\n",
    "    return dict[b'label_names']"
   ]
  },
  {
   "cell_type": "code",
   "execution_count": 58,
   "metadata": {},
   "outputs": [],
   "source": [
    "def save_cifar_image(array, path):\n",
    "    # array is 3x32x32. cv2 needs 32x32x3\n",
    "    array = array.transpose(1,2,0)\n",
    "    # array is RGB. cv2 needs BGR\n",
    "    array = cv2.cvtColor(array, cv2.COLOR_RGB2BGR)\n",
    "    # to save in YCrCb comment above line and uncomment below line\n",
    "    # array = cv2.cvtColor(array, cv2.COLOR_BGR2YCrCb)\n",
    "    # save to PNG file\n",
    "    return cv2.imwrite(path, array)"
   ]
  },
  {
   "cell_type": "code",
   "execution_count": 59,
   "metadata": {},
   "outputs": [
    {
     "name": "stdout",
     "output_type": "stream",
     "text": [
      "[b'airplane', b'automobile', b'bird', b'cat', b'deer', b'dog', b'frog', b'horse', b'ship', b'truck']\n",
      "Loaded 10000 labelled images.\n"
     ]
    }
   ],
   "source": [
    "base_dir= os.getcwd()\n",
    "num_batches = 1 # max value is 5 for CIFAR-10\n",
    "picke_names = ['data_batch_' + str(i+1) for i in range(num_batches)]\n",
    "n_imgs = 100\n",
    "categories = load_cifar_categories(os.path.join(base_dir, 'cifar-10-batches-py'), \"batches.meta\")\n",
    "print(categories)\n",
    "if os.path.exists(os.path.join(base_dir, 'cifar10')):\n",
    "    shutil.rmtree(os.path.join(base_dir, 'cifar10'))\n",
    "    \n",
    "for picke_name in picke_names:\n",
    "    images, labels = load_cifar_pickle(os.path.join(base_dir, 'cifar-10-batches-py'), picke_name)\n",
    "    for i in range(0,n_imgs):\n",
    "        cat = categories[labels[i]]\n",
    "        out_dir = os.path.join(base_dir, 'cifar10', cat.decode(\"utf-8\"))\n",
    "        if not os.path.exists(out_dir):\n",
    "            os.makedirs(out_dir)\n",
    "\n",
    "        save_cifar_image(images[i], os.path.join(out_dir, 'image_{}.png'.format(i)))"
   ]
  },
  {
   "cell_type": "code",
   "execution_count": null,
   "metadata": {},
   "outputs": [],
   "source": []
  }
 ],
 "metadata": {
  "kernelspec": {
   "display_name": "Python 3",
   "language": "python",
   "name": "python3"
  },
  "language_info": {
   "codemirror_mode": {
    "name": "ipython",
    "version": 3
   },
   "file_extension": ".py",
   "mimetype": "text/x-python",
   "name": "python",
   "nbconvert_exporter": "python",
   "pygments_lexer": "ipython3",
   "version": "3.7.7"
  }
 },
 "nbformat": 4,
 "nbformat_minor": 4
}
